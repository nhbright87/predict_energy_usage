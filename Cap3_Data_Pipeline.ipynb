{
 "cells": [
  {
   "cell_type": "code",
   "execution_count": null,
   "metadata": {},
   "outputs": [],
   "source": [
    "import pandas as pd\n",
    "import numpy as np"
   ]
  },
  {
   "cell_type": "markdown",
   "metadata": {},
   "source": [
    "Import Raw Data Files"
   ]
  },
  {
   "cell_type": "code",
   "execution_count": null,
   "metadata": {},
   "outputs": [],
   "source": [
    "h2_15 = pd.read_csv('data/EIA930_BALANCE_2015_Jul_Dec.csv')\n",
    "h1_16 = pd.read_csv('data/EIA930_BALANCE_2016_Jan_Jun.csv')\n",
    "h2_16 = pd.read_csv('data/EIA930_BALANCE_2016_Jul_Dec.csv', low_memory=False)\n",
    "h1_17 = pd.read_csv('data/EIA930_BALANCE_2017_Jan_Jun.csv', low_memory=False)\n",
    "h2_17 = pd.read_csv('data/EIA930_BALANCE_2017_Jul_Dec.csv', low_memory=False)\n",
    "h1_18 = pd.read_csv('data/EIA930_BALANCE_2018_Jan_Jun.csv', low_memory=False)\n",
    "h2_18 = pd.read_csv('data/EIA930_BALANCE_2018_Jul_Dec.csv', low_memory=False)\n",
    "h1_19 = pd.read_csv('data/EIA930_BALANCE_2019_Jan_Jun.csv', low_memory=False)\n",
    "h2_19 = pd.read_csv('data/EIA930_BALANCE_2019_Jul_Dec.csv', low_memory=False)\n",
    "h1_20 = pd.read_csv('data/EIA930_BALANCE_2020_Jan_Jun.csv', low_memory=False)\n",
    "h2_20 = pd.read_csv('data/EIA930_BALANCE_2020_Jul_Dec.csv', low_memory=False)"
   ]
  },
  {
   "cell_type": "markdown",
   "metadata": {},
   "source": [
    "To make things easier, merge all Data Files with 14 columns into a Dataframe called Part 1"
   ]
  },
  {
   "cell_type": "code",
   "execution_count": null,
   "metadata": {},
   "outputs": [],
   "source": [
    "pt1 = pd.concat([h2_15, h1_16, h2_16, h1_17, h2_17, h1_18])"
   ]
  },
  {
   "cell_type": "markdown",
   "metadata": {},
   "source": [
    "Remove Extraneous Columns"
   ]
  },
  {
   "cell_type": "code",
   "execution_count": null,
   "metadata": {},
   "outputs": [],
   "source": [
    "pt1 = pt1.drop(['Local Time at End of Hour', \n",
    "                'Data Date', \n",
    "                'Hour Number',\n",
    "                'Demand (MW) (Adjusted)', \n",
    "                'Net Generation (MW) (Adjusted)', \n",
    "                'Demand (MW) (Imputed)', \n",
    "                'Net Generation (MW) (Imputed)', \n",
    "                'Sum(Valid DIBAs) (MW)'], axis=1)"
   ]
  },
  {
   "cell_type": "markdown",
   "metadata": {},
   "source": [
    "Add additional columns to make Part 1 Dataframe the same shape as Part 2"
   ]
  },
  {
   "cell_type": "code",
   "execution_count": null,
   "metadata": {},
   "outputs": [],
   "source": [
    "pt1['Net Generation (MW) from Coal'] = np.zeros(1734648)\n",
    "pt1['Net Generation (MW) from Natural Gas'] = np.zeros(1734648)\n",
    "pt1['Net Generation (MW) from Nuclear'] = np.zeros(1734648)\n",
    "pt1['Net Generation (MW) from All Petroleum Products'] = np.zeros(1734648)\n",
    "pt1['Net Generation (MW) from Hydropower and Pumped Storage'] = np.zeros(1734648)\n",
    "pt1['Net Generation (MW) from Solar'] = np.zeros(1734648)\n",
    "pt1['Net Generation (MW) from Wind'] = np.zeros(1734648)\n",
    "pt1['Net Generation (MW) from Other Fuel Sources'] = np.zeros(1734648)"
   ]
  },
  {
   "cell_type": "markdown",
   "metadata": {},
   "source": [
    "Create Part 2 Dataframe"
   ]
  },
  {
   "cell_type": "code",
   "execution_count": null,
   "metadata": {},
   "outputs": [],
   "source": [
    "pt2 = pd.concat([h2_18, h1_19, h2_19, h1_20, h2_20])"
   ]
  },
  {
   "cell_type": "markdown",
   "metadata": {},
   "source": [
    "Remove Extraneous Columns"
   ]
  },
  {
   "cell_type": "code",
   "execution_count": null,
   "metadata": {},
   "outputs": [],
   "source": [
    "pt2 = pt2.drop(['Local Time at End of Hour', \n",
    "                'Data Date', \n",
    "                'Hour Number', \n",
    "                'Demand (MW) (Adjusted)', \n",
    "                'Net Generation (MW) (Adjusted)',\n",
    "                'Demand (MW) (Imputed)', \n",
    "                'Net Generation (MW) (Imputed)',\n",
    "                'Net Generation (MW) from Unknown Fuel Sources', \n",
    "                'Sum(Valid DIBAs) (MW)'], axis=1)"
   ]
  },
  {
   "cell_type": "markdown",
   "metadata": {},
   "source": [
    "Merge Part 1 and Part 2 into a single Dataframe"
   ]
  },
  {
   "cell_type": "code",
   "execution_count": null,
   "metadata": {},
   "outputs": [],
   "source": [
    "data = pd.concat([pt1, pt2])"
   ]
  },
  {
   "cell_type": "markdown",
   "metadata": {},
   "source": [
    "Convert UTC Column to Datetime Format and Most Remaining Columns to a Numeric Datatype"
   ]
  },
  {
   "cell_type": "code",
   "execution_count": null,
   "metadata": {},
   "outputs": [],
   "source": [
    "data['UTC Time at End of Hour'] = pd.to_datetime(data['UTC Time at End of Hour'], errors='raise')\n",
    "data['Demand Forecast (MW)'] = pd.to_numeric(data['Demand Forecast (MW)'], errors='coerce')\n",
    "data['Demand (MW)'] = pd.to_numeric(data['Demand (MW)'], errors='coerce')\n",
    "data['Net Generation (MW)'] = pd.to_numeric(data['Net Generation (MW)'], errors='coerce')\n",
    "data['Total Interchange (MW)'] = pd.to_numeric(data['Total Interchange (MW)'], errors='coerce')\n",
    "data['Net Generation (MW) from Coal'] = pd.to_numeric(data['Net Generation (MW) from Coal'], errors='coerce')\n",
    "data['Net Generation (MW) from Natural Gas'] = pd.to_numeric(data['Net Generation (MW) from Natural Gas'], errors='coerce')\n",
    "data['Net Generation (MW) from Nuclear'] = pd.to_numeric(data['Net Generation (MW) from Nuclear'], errors='coerce')\n",
    "data['Net Generation (MW) from All Petroleum Products'] = pd.to_numeric(data['Net Generation (MW) from All Petroleum Products'], errors='coerce')\n",
    "data['Net Generation (MW) from Hydropower and Pumped Storage'] = pd.to_numeric(data['Net Generation (MW) from Hydropower and Pumped Storage'], errors='coerce')\n",
    "data['Net Generation (MW) from Solar'] = pd.to_numeric(data['Net Generation (MW) from Solar'], errors='coerce')\n",
    "data['Net Generation (MW) from Wind'] = pd.to_numeric(data['Net Generation (MW) from Wind'], errors='coerce')\n",
    "data['Net Generation (MW) from Other Fuel Sources'] = pd.to_numeric(data['Net Generation (MW) from Other Fuel Sources'], errors='coerce')"
   ]
  },
  {
   "cell_type": "markdown",
   "metadata": {},
   "source": [
    "Export Cleaned, Unified Dataset to a CSV"
   ]
  },
  {
   "cell_type": "code",
   "execution_count": null,
   "metadata": {},
   "outputs": [],
   "source": [
    "data.to_csv('cap3_data.csv')"
   ]
  }
 ],
 "metadata": {
  "kernelspec": {
   "display_name": "myenv",
   "language": "python",
   "name": "myenv"
  },
  "language_info": {
   "codemirror_mode": {
    "name": "ipython",
    "version": 3
   },
   "file_extension": ".py",
   "mimetype": "text/x-python",
   "name": "python",
   "nbconvert_exporter": "python",
   "pygments_lexer": "ipython3",
   "version": "3.7.9"
  }
 },
 "nbformat": 4,
 "nbformat_minor": 4
}
