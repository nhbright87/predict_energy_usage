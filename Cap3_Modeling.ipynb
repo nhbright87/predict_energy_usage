{
 "cells": [
  {
   "cell_type": "code",
   "execution_count": 1,
   "metadata": {},
   "outputs": [
    {
     "name": "stderr",
     "output_type": "stream",
     "text": [
      "/usr/local/lib/python3.5/dist-packages/pmdarima/__init__.py:100: UserWarning: pmdarima is not built or tested against versions of python older than 3.6. Your python version (3.5.2) is not guaranteed to be supported\n",
      "  _py_version.major, _py_version.minor, _py_version.micro,\n"
     ]
    }
   ],
   "source": [
    "%matplotlib inline\n",
    "\n",
    "import os\n",
    "import itertools\n",
    "import numpy as np\n",
    "import pandas as pd\n",
    "import matplotlib.pyplot as plt\n",
    "from scipy import signal\n",
    "from scipy import stats\n",
    "\n",
    "import statsmodels.api as sm\n",
    "from statsmodels.tsa.arima_model import ARIMA\n",
    "from statsmodels.tsa.arima_process import ArmaProcess\n",
    "from statsmodels.tsa.statespace.sarimax import SARIMAX\n",
    "from statsmodels.graphics.tsaplots import plot_acf,plot_pacf\n",
    "from statsmodels.tsa.seasonal import seasonal_decompose\n",
    "from pmdarima import auto_arima\n",
    "from sklearn.metrics import mean_squared_error\n",
    "from statsmodels.tools.eval_measures import rmse\n",
    "from sklearn.preprocessing import MinMaxScaler\n",
    "\n",
    "plt.style.use('ggplot')\n",
    "\n",
    "import warnings\n",
    "warnings.filterwarnings('ignore')"
   ]
  },
  {
   "cell_type": "markdown",
   "metadata": {},
   "source": [
    "Ingest Data File and Make Necessary Adjustments"
   ]
  },
  {
   "cell_type": "code",
   "execution_count": 2,
   "metadata": {},
   "outputs": [],
   "source": [
    "data = pd.read_csv('cap3_data.csv')"
   ]
  },
  {
   "cell_type": "code",
   "execution_count": 3,
   "metadata": {},
   "outputs": [],
   "source": [
    "data = data.drop(['Unnamed: 0'], axis=1)\n",
    "data['UTC Time at End of Hour'] = pd.to_datetime(data['UTC Time at End of Hour'], errors='raise')\n",
    "data = data.set_index('UTC Time at End of Hour')"
   ]
  },
  {
   "cell_type": "markdown",
   "metadata": {},
   "source": [
    "Calculate Demand Mean and Fill NaNs in Column with Mean/Zeros"
   ]
  },
  {
   "cell_type": "code",
   "execution_count": 6,
   "metadata": {},
   "outputs": [
    {
     "data": {
      "text/plain": [
       "343.39225844920753"
      ]
     },
     "execution_count": 6,
     "metadata": {},
     "output_type": "execute_result"
    }
   ],
   "source": [
    "og_mean = data['Demand (MW)'].mean()\n",
    "og_mean"
   ]
  },
  {
   "cell_type": "code",
   "execution_count": 29,
   "metadata": {},
   "outputs": [
    {
     "data": {
      "text/plain": [
       "85.02272118128093"
      ]
     },
     "execution_count": 29,
     "metadata": {},
     "output_type": "execute_result"
    }
   ],
   "source": [
    "zero_mean = data['Demand (MW)'].mean()\n",
    "zero_mean"
   ]
  },
  {
   "cell_type": "code",
   "execution_count": 4,
   "metadata": {},
   "outputs": [],
   "source": [
    "data['Demand (MW)'] = data['Demand (MW)'].fillna(0)\n",
    "#data['Demand (MW)'] = data['Demand (MW)'].fillna(og_mean)"
   ]
  },
  {
   "cell_type": "code",
   "execution_count": 12,
   "metadata": {
    "scrolled": true
   },
   "outputs": [
    {
     "name": "stdout",
     "output_type": "stream",
     "text": [
      "<class 'pandas.core.frame.DataFrame'>\n",
      "DatetimeIndex: 3156438 entries, 2015-07-01 06:00:00 to 2021-01-01 05:00:00\n",
      "Data columns (total 13 columns):\n",
      " #   Column                                                  Non-Null Count    Dtype  \n",
      "---  ------                                                  --------------    -----  \n",
      " 0   Balancing Authority                                     3156438 non-null  object \n",
      " 1   Demand Forecast (MW)                                    745868 non-null   float64\n",
      " 2   Demand (MW)                                             3156438 non-null  float64\n",
      " 3   Net Generation (MW)                                     1278726 non-null  float64\n",
      " 4   Total Interchange (MW)                                  2342764 non-null  float64\n",
      " 5   Net Generation (MW) from Coal                           2198539 non-null  float64\n",
      " 6   Net Generation (MW) from Natural Gas                    2382768 non-null  float64\n",
      " 7   Net Generation (MW) from Nuclear                        1808818 non-null  float64\n",
      " 8   Net Generation (MW) from All Petroleum Products         2182327 non-null  float64\n",
      " 9   Net Generation (MW) from Hydropower and Pumped Storage  2511687 non-null  float64\n",
      " 10  Net Generation (MW) from Solar                          2563150 non-null  float64\n",
      " 11  Net Generation (MW) from Wind                           2246674 non-null  float64\n",
      " 12  Net Generation (MW) from Other Fuel Sources             2432976 non-null  float64\n",
      "dtypes: float64(12), object(1)\n",
      "memory usage: 337.1+ MB\n"
     ]
    }
   ],
   "source": [
    "data.info(null_counts=True)"
   ]
  },
  {
   "cell_type": "code",
   "execution_count": 9,
   "metadata": {},
   "outputs": [
    {
     "data": {
      "text/html": [
       "<div>\n",
       "<style scoped>\n",
       "    .dataframe tbody tr th:only-of-type {\n",
       "        vertical-align: middle;\n",
       "    }\n",
       "\n",
       "    .dataframe tbody tr th {\n",
       "        vertical-align: top;\n",
       "    }\n",
       "\n",
       "    .dataframe thead th {\n",
       "        text-align: right;\n",
       "    }\n",
       "</style>\n",
       "<table border=\"1\" class=\"dataframe\">\n",
       "  <thead>\n",
       "    <tr style=\"text-align: right;\">\n",
       "      <th></th>\n",
       "      <th>Balancing Authority</th>\n",
       "      <th>Demand Forecast (MW)</th>\n",
       "      <th>Demand (MW)</th>\n",
       "      <th>Net Generation (MW)</th>\n",
       "      <th>Total Interchange (MW)</th>\n",
       "      <th>Net Generation (MW) from Coal</th>\n",
       "      <th>Net Generation (MW) from Natural Gas</th>\n",
       "      <th>Net Generation (MW) from Nuclear</th>\n",
       "      <th>Net Generation (MW) from All Petroleum Products</th>\n",
       "      <th>Net Generation (MW) from Hydropower and Pumped Storage</th>\n",
       "      <th>Net Generation (MW) from Solar</th>\n",
       "      <th>Net Generation (MW) from Wind</th>\n",
       "      <th>Net Generation (MW) from Other Fuel Sources</th>\n",
       "    </tr>\n",
       "    <tr>\n",
       "      <th>UTC Time at End of Hour</th>\n",
       "      <th></th>\n",
       "      <th></th>\n",
       "      <th></th>\n",
       "      <th></th>\n",
       "      <th></th>\n",
       "      <th></th>\n",
       "      <th></th>\n",
       "      <th></th>\n",
       "      <th></th>\n",
       "      <th></th>\n",
       "      <th></th>\n",
       "      <th></th>\n",
       "      <th></th>\n",
       "    </tr>\n",
       "  </thead>\n",
       "  <tbody>\n",
       "    <tr>\n",
       "      <th>2015-07-01 06:00:00</th>\n",
       "      <td>AEC</td>\n",
       "      <td>882.0</td>\n",
       "      <td>422.0</td>\n",
       "      <td>670.0</td>\n",
       "      <td>248.0</td>\n",
       "      <td>0.0</td>\n",
       "      <td>0.0</td>\n",
       "      <td>0.0</td>\n",
       "      <td>0.0</td>\n",
       "      <td>0.0</td>\n",
       "      <td>0.0</td>\n",
       "      <td>0.0</td>\n",
       "      <td>0.0</td>\n",
       "    </tr>\n",
       "    <tr>\n",
       "      <th>2015-07-01 07:00:00</th>\n",
       "      <td>AEC</td>\n",
       "      <td>819.0</td>\n",
       "      <td>395.0</td>\n",
       "      <td>620.0</td>\n",
       "      <td>225.0</td>\n",
       "      <td>0.0</td>\n",
       "      <td>0.0</td>\n",
       "      <td>0.0</td>\n",
       "      <td>0.0</td>\n",
       "      <td>0.0</td>\n",
       "      <td>0.0</td>\n",
       "      <td>0.0</td>\n",
       "      <td>0.0</td>\n",
       "    </tr>\n",
       "    <tr>\n",
       "      <th>2015-07-01 08:00:00</th>\n",
       "      <td>AEC</td>\n",
       "      <td>782.0</td>\n",
       "      <td>382.0</td>\n",
       "      <td>637.0</td>\n",
       "      <td>255.0</td>\n",
       "      <td>0.0</td>\n",
       "      <td>0.0</td>\n",
       "      <td>0.0</td>\n",
       "      <td>0.0</td>\n",
       "      <td>0.0</td>\n",
       "      <td>0.0</td>\n",
       "      <td>0.0</td>\n",
       "      <td>0.0</td>\n",
       "    </tr>\n",
       "    <tr>\n",
       "      <th>2015-07-01 09:00:00</th>\n",
       "      <td>AEC</td>\n",
       "      <td>763.0</td>\n",
       "      <td>370.0</td>\n",
       "      <td>619.0</td>\n",
       "      <td>249.0</td>\n",
       "      <td>0.0</td>\n",
       "      <td>0.0</td>\n",
       "      <td>0.0</td>\n",
       "      <td>0.0</td>\n",
       "      <td>0.0</td>\n",
       "      <td>0.0</td>\n",
       "      <td>0.0</td>\n",
       "      <td>0.0</td>\n",
       "    </tr>\n",
       "    <tr>\n",
       "      <th>2015-07-01 10:00:00</th>\n",
       "      <td>AEC</td>\n",
       "      <td>774.0</td>\n",
       "      <td>383.0</td>\n",
       "      <td>633.0</td>\n",
       "      <td>250.0</td>\n",
       "      <td>0.0</td>\n",
       "      <td>0.0</td>\n",
       "      <td>0.0</td>\n",
       "      <td>0.0</td>\n",
       "      <td>0.0</td>\n",
       "      <td>0.0</td>\n",
       "      <td>0.0</td>\n",
       "      <td>0.0</td>\n",
       "    </tr>\n",
       "  </tbody>\n",
       "</table>\n",
       "</div>"
      ],
      "text/plain": [
       "                        Balancing Authority  Demand Forecast (MW)  \\\n",
       "UTC Time at End of Hour                                             \n",
       "2015-07-01 06:00:00                     AEC                 882.0   \n",
       "2015-07-01 07:00:00                     AEC                 819.0   \n",
       "2015-07-01 08:00:00                     AEC                 782.0   \n",
       "2015-07-01 09:00:00                     AEC                 763.0   \n",
       "2015-07-01 10:00:00                     AEC                 774.0   \n",
       "\n",
       "                         Demand (MW)  Net Generation (MW)  \\\n",
       "UTC Time at End of Hour                                     \n",
       "2015-07-01 06:00:00            422.0                670.0   \n",
       "2015-07-01 07:00:00            395.0                620.0   \n",
       "2015-07-01 08:00:00            382.0                637.0   \n",
       "2015-07-01 09:00:00            370.0                619.0   \n",
       "2015-07-01 10:00:00            383.0                633.0   \n",
       "\n",
       "                         Total Interchange (MW)  \\\n",
       "UTC Time at End of Hour                           \n",
       "2015-07-01 06:00:00                       248.0   \n",
       "2015-07-01 07:00:00                       225.0   \n",
       "2015-07-01 08:00:00                       255.0   \n",
       "2015-07-01 09:00:00                       249.0   \n",
       "2015-07-01 10:00:00                       250.0   \n",
       "\n",
       "                         Net Generation (MW) from Coal  \\\n",
       "UTC Time at End of Hour                                  \n",
       "2015-07-01 06:00:00                                0.0   \n",
       "2015-07-01 07:00:00                                0.0   \n",
       "2015-07-01 08:00:00                                0.0   \n",
       "2015-07-01 09:00:00                                0.0   \n",
       "2015-07-01 10:00:00                                0.0   \n",
       "\n",
       "                         Net Generation (MW) from Natural Gas  \\\n",
       "UTC Time at End of Hour                                         \n",
       "2015-07-01 06:00:00                                       0.0   \n",
       "2015-07-01 07:00:00                                       0.0   \n",
       "2015-07-01 08:00:00                                       0.0   \n",
       "2015-07-01 09:00:00                                       0.0   \n",
       "2015-07-01 10:00:00                                       0.0   \n",
       "\n",
       "                         Net Generation (MW) from Nuclear  \\\n",
       "UTC Time at End of Hour                                     \n",
       "2015-07-01 06:00:00                                   0.0   \n",
       "2015-07-01 07:00:00                                   0.0   \n",
       "2015-07-01 08:00:00                                   0.0   \n",
       "2015-07-01 09:00:00                                   0.0   \n",
       "2015-07-01 10:00:00                                   0.0   \n",
       "\n",
       "                         Net Generation (MW) from All Petroleum Products  \\\n",
       "UTC Time at End of Hour                                                    \n",
       "2015-07-01 06:00:00                                                  0.0   \n",
       "2015-07-01 07:00:00                                                  0.0   \n",
       "2015-07-01 08:00:00                                                  0.0   \n",
       "2015-07-01 09:00:00                                                  0.0   \n",
       "2015-07-01 10:00:00                                                  0.0   \n",
       "\n",
       "                         Net Generation (MW) from Hydropower and Pumped Storage  \\\n",
       "UTC Time at End of Hour                                                           \n",
       "2015-07-01 06:00:00                                                    0.0        \n",
       "2015-07-01 07:00:00                                                    0.0        \n",
       "2015-07-01 08:00:00                                                    0.0        \n",
       "2015-07-01 09:00:00                                                    0.0        \n",
       "2015-07-01 10:00:00                                                    0.0        \n",
       "\n",
       "                         Net Generation (MW) from Solar  \\\n",
       "UTC Time at End of Hour                                   \n",
       "2015-07-01 06:00:00                                 0.0   \n",
       "2015-07-01 07:00:00                                 0.0   \n",
       "2015-07-01 08:00:00                                 0.0   \n",
       "2015-07-01 09:00:00                                 0.0   \n",
       "2015-07-01 10:00:00                                 0.0   \n",
       "\n",
       "                         Net Generation (MW) from Wind  \\\n",
       "UTC Time at End of Hour                                  \n",
       "2015-07-01 06:00:00                                0.0   \n",
       "2015-07-01 07:00:00                                0.0   \n",
       "2015-07-01 08:00:00                                0.0   \n",
       "2015-07-01 09:00:00                                0.0   \n",
       "2015-07-01 10:00:00                                0.0   \n",
       "\n",
       "                         Net Generation (MW) from Other Fuel Sources  \n",
       "UTC Time at End of Hour                                               \n",
       "2015-07-01 06:00:00                                              0.0  \n",
       "2015-07-01 07:00:00                                              0.0  \n",
       "2015-07-01 08:00:00                                              0.0  \n",
       "2015-07-01 09:00:00                                              0.0  \n",
       "2015-07-01 10:00:00                                              0.0  "
      ]
     },
     "execution_count": 9,
     "metadata": {},
     "output_type": "execute_result"
    }
   ],
   "source": [
    "data.head()"
   ]
  },
  {
   "cell_type": "code",
   "execution_count": 9,
   "metadata": {},
   "outputs": [],
   "source": [
    "demand = data['Demand (MW)']"
   ]
  },
  {
   "cell_type": "code",
   "execution_count": 40,
   "metadata": {},
   "outputs": [
    {
     "data": {
      "text/plain": [
       "UTC Time at End of Hour\n",
       "2015-07-01 06:00:00    422.0\n",
       "2015-07-01 07:00:00    395.0\n",
       "2015-07-01 08:00:00    382.0\n",
       "2015-07-01 09:00:00    370.0\n",
       "2015-07-01 10:00:00    383.0\n",
       "Name: Demand (MW), dtype: float64"
      ]
     },
     "execution_count": 40,
     "metadata": {},
     "output_type": "execute_result"
    }
   ],
   "source": [
    "demand.head()"
   ]
  },
  {
   "cell_type": "code",
   "execution_count": null,
   "metadata": {},
   "outputs": [],
   "source": [
    "#auto_arima(data['Demand (MW)'], \n",
    "#           seasonal=True, \n",
    "#           m=12, \n",
    "#           max_p=7, \n",
    "#           max_d=5, \n",
    "#           max_q=7, \n",
    "#           max_P=4, \n",
    "#           max_D=4, \n",
    "#           max_Q=4).summary()"
   ]
  },
  {
   "cell_type": "markdown",
   "metadata": {},
   "source": [
    "Defining the Size of Training and Testing Data"
   ]
  },
  {
   "cell_type": "code",
   "execution_count": 10,
   "metadata": {},
   "outputs": [],
   "source": [
    "size = int(len(demand) * (2/3))\n",
    "train_data = demand[:size]\n",
    "test_data = demand[size:]"
   ]
  },
  {
   "cell_type": "code",
   "execution_count": null,
   "metadata": {},
   "outputs": [],
   "source": [
    "# walk-forward validation\n",
    "for t in range(len(test)):\n",
    "\tmodel = ARIMA(history, order=(5,1,0))\n",
    "\tmodel_fit = model.fit()\n",
    "\toutput = model_fit.forecast()\n",
    "\tyhat = output[0]\n",
    "\tpredictions.append(yhat)\n",
    "\tobs = test[t]\n",
    "\thistory.append(obs)\n",
    "\tprint('predicted=%f, expected=%f' % (yhat, obs))"
   ]
  },
  {
   "cell_type": "markdown",
   "metadata": {},
   "source": [
    "Creating the ARIMA Model"
   ]
  },
  {
   "cell_type": "code",
   "execution_count": 32,
   "metadata": {},
   "outputs": [
    {
     "data": {
      "text/html": [
       "<table class=\"simpletable\">\n",
       "<caption>SARIMAX Results</caption>\n",
       "<tr>\n",
       "  <th>Dep. Variable:</th>      <td>Demand (MW)</td>   <th>  No. Observations:  </th>    <td>2104292</td>   \n",
       "</tr>\n",
       "<tr>\n",
       "  <th>Model:</th>           <td>SARIMAX(1, 0, 0)</td> <th>  Log Likelihood     </th> <td>-11764008.929</td>\n",
       "</tr>\n",
       "<tr>\n",
       "  <th>Date:</th>            <td>Thu, 14 Jan 2021</td> <th>  AIC                </th> <td>23528021.858</td> \n",
       "</tr>\n",
       "<tr>\n",
       "  <th>Time:</th>                <td>09:10:18</td>     <th>  BIC                </th> <td>23528046.977</td> \n",
       "</tr>\n",
       "<tr>\n",
       "  <th>Sample:</th>                  <td>0</td>        <th>  HQIC               </th> <td>23528028.571</td> \n",
       "</tr>\n",
       "<tr>\n",
       "  <th></th>                    <td> - 2104292</td>    <th>                     </th>       <td> </td>      \n",
       "</tr>\n",
       "<tr>\n",
       "  <th>Covariance Type:</th>        <td>opg</td>       <th>                     </th>       <td> </td>      \n",
       "</tr>\n",
       "</table>\n",
       "<table class=\"simpletable\">\n",
       "<tr>\n",
       "     <td></td>       <th>coef</th>     <th>std err</th>      <th>z</th>      <th>P>|z|</th>  <th>[0.025</th>    <th>0.975]</th>  \n",
       "</tr>\n",
       "<tr>\n",
       "  <th>ar.L1</th>  <td>    0.9548</td> <td> 8.94e-05</td> <td> 1.07e+04</td> <td> 0.000</td> <td>    0.955</td> <td>    0.955</td>\n",
       "</tr>\n",
       "<tr>\n",
       "  <th>sigma2</th> <td> 4201.0372</td> <td>    0.541</td> <td> 7758.545</td> <td> 0.000</td> <td> 4199.976</td> <td> 4202.099</td>\n",
       "</tr>\n",
       "</table>\n",
       "<table class=\"simpletable\">\n",
       "<tr>\n",
       "  <th>Ljung-Box (L1) (Q):</th>     <td>11995.57</td> <th>  Jarque-Bera (JB):  </th> <td>3482848817.97</td>\n",
       "</tr>\n",
       "<tr>\n",
       "  <th>Prob(Q):</th>                  <td>0.00</td>   <th>  Prob(JB):          </th>     <td>0.00</td>     \n",
       "</tr>\n",
       "<tr>\n",
       "  <th>Heteroskedasticity (H):</th>   <td>1.05</td>   <th>  Skew:              </th>     <td>0.89</td>     \n",
       "</tr>\n",
       "<tr>\n",
       "  <th>Prob(H) (two-sided):</th>      <td>0.00</td>   <th>  Kurtosis:          </th>    <td>202.30</td>    \n",
       "</tr>\n",
       "</table><br/><br/>Warnings:<br/>[1] Covariance matrix calculated using the outer product of gradients (complex-step)."
      ],
      "text/plain": [
       "<class 'statsmodels.iolib.summary.Summary'>\n",
       "\"\"\"\n",
       "                               SARIMAX Results                                \n",
       "==============================================================================\n",
       "Dep. Variable:            Demand (MW)   No. Observations:              2104292\n",
       "Model:               SARIMAX(1, 0, 0)   Log Likelihood           -11764008.929\n",
       "Date:                Thu, 14 Jan 2021   AIC                       23528021.858\n",
       "Time:                        09:10:18   BIC                       23528046.977\n",
       "Sample:                             0   HQIC                      23528028.571\n",
       "                            - 2104292                                         \n",
       "Covariance Type:                  opg                                         \n",
       "==============================================================================\n",
       "                 coef    std err          z      P>|z|      [0.025      0.975]\n",
       "------------------------------------------------------------------------------\n",
       "ar.L1          0.9548   8.94e-05   1.07e+04      0.000       0.955       0.955\n",
       "sigma2      4201.0372      0.541   7758.545      0.000    4199.976    4202.099\n",
       "===================================================================================\n",
       "Ljung-Box (L1) (Q):               11995.57   Jarque-Bera (JB):        3482848817.97\n",
       "Prob(Q):                              0.00   Prob(JB):                         0.00\n",
       "Heteroskedasticity (H):               1.05   Skew:                             0.89\n",
       "Prob(H) (two-sided):                  0.00   Kurtosis:                       202.30\n",
       "===================================================================================\n",
       "\n",
       "Warnings:\n",
       "[1] Covariance matrix calculated using the outer product of gradients (complex-step).\n",
       "\"\"\""
      ]
     },
     "execution_count": 32,
     "metadata": {},
     "output_type": "execute_result"
    }
   ],
   "source": [
    "arima_model = SARIMAX(train_data)#, order = (2,1,1), seasonal_order = (4,0,3,12))\n",
    "arima_result = arima_model.fit()\n",
    "arima_result.summary()"
   ]
  },
  {
   "cell_type": "markdown",
   "metadata": {},
   "source": [
    "Predictions with Zeroes for NaNs"
   ]
  },
  {
   "cell_type": "code",
   "execution_count": 33,
   "metadata": {},
   "outputs": [],
   "source": [
    "arima_zero_pred = arima_result.predict(\n",
    "    start = len(train_data), \n",
    "    end = (len(train_data) + len(test_data)-1), typ=\"levels\").rename(\"ARIMA Zero Predictions\")"
   ]
  },
  {
   "cell_type": "code",
   "execution_count": 34,
   "metadata": {},
   "outputs": [
    {
     "data": {
      "text/plain": [
       "2104292   -5.434722e-323\n",
       "2104293   -5.434722e-323\n",
       "2104294   -5.434722e-323\n",
       "2104295   -5.434722e-323\n",
       "2104296   -5.434722e-323\n",
       "               ...      \n",
       "3156433   -5.434722e-323\n",
       "3156434   -5.434722e-323\n",
       "3156435   -5.434722e-323\n",
       "3156436   -5.434722e-323\n",
       "3156437   -5.434722e-323\n",
       "Name: ARIMA Zero Predictions, Length: 1052146, dtype: float64"
      ]
     },
     "execution_count": 34,
     "metadata": {},
     "output_type": "execute_result"
    }
   ],
   "source": [
    "arima_zero_pred"
   ]
  },
  {
   "cell_type": "markdown",
   "metadata": {},
   "source": [
    "Predictions with Demand Mean"
   ]
  },
  {
   "cell_type": "code",
   "execution_count": 20,
   "metadata": {},
   "outputs": [],
   "source": [
    "arima_mean_pred = arima_result.predict(\n",
    "    start = len(train_data), \n",
    "    end = (len(train_data) + len(test_data)-1), typ=\"levels\").rename(\"ARIMA Mean Predictions\")"
   ]
  },
  {
   "cell_type": "code",
   "execution_count": 21,
   "metadata": {
    "scrolled": true
   },
   "outputs": [
    {
     "data": {
      "text/plain": [
       "2104292     3.409387e+02\n",
       "2104293     3.385028e+02\n",
       "2104294     3.360842e+02\n",
       "2104295     3.336829e+02\n",
       "2104296     3.312988e+02\n",
       "               ...      \n",
       "3156433    3.409053e-322\n",
       "3156434    3.409053e-322\n",
       "3156435    3.409053e-322\n",
       "3156436    3.409053e-322\n",
       "3156437    3.409053e-322\n",
       "Name: ARIMA Predictions, Length: 1052146, dtype: float64"
      ]
     },
     "execution_count": 21,
     "metadata": {},
     "output_type": "execute_result"
    }
   ],
   "source": [
    "arima_mean_pred"
   ]
  },
  {
   "cell_type": "markdown",
   "metadata": {},
   "source": [
    "Measuring Performance of the ARIMA Model"
   ]
  },
  {
   "cell_type": "markdown",
   "metadata": {},
   "source": [
    "Performance when the NaNs are Filled with Zeroes"
   ]
  },
  {
   "cell_type": "code",
   "execution_count": 48,
   "metadata": {
    "scrolled": true
   },
   "outputs": [
    {
     "name": "stdout",
     "output_type": "stream",
     "text": [
      "MSE Error: 48550.670196955056\n",
      "RMSE Error: 220.34216618013687\n",
      "Mean: 85.02272118128093\n"
     ]
    }
   ],
   "source": [
    "arima_rmse_error = rmse(test_data, arima_pred)\n",
    "arima_mse_error = arima_rmse_error**2\n",
    "mean_value = data['Demand (MW)'].mean()\n",
    "\n",
    "print(f'MSE Error: {arima_mse_error}\\nRMSE Error: {arima_rmse_error}\\nMean: {mean_value}')"
   ]
  },
  {
   "cell_type": "markdown",
   "metadata": {},
   "source": [
    "Performance when NaNs are Filled with the Mean Demand"
   ]
  },
  {
   "cell_type": "code",
   "execution_count": 22,
   "metadata": {},
   "outputs": [
    {
     "name": "stdout",
     "output_type": "stream",
     "text": [
      "MSE Error: 137802.64675154808\n",
      "RMSE Error: 371.2177888403896\n",
      "Mean: 343.3922584492074\n"
     ]
    }
   ],
   "source": [
    "arima_rmse_error = rmse(test_data, arima_mean_pred)\n",
    "arima_mse_error = arima_rmse_error**2\n",
    "mean_value = data['Demand (MW)'].mean()\n",
    "\n",
    "print(f'MSE Error: {arima_mse_error}\\nRMSE Error: {arima_rmse_error}\\nMean: {mean_value}')"
   ]
  },
  {
   "cell_type": "markdown",
   "metadata": {},
   "source": [
    "LSTM Model"
   ]
  },
  {
   "cell_type": "code",
   "execution_count": 5,
   "metadata": {},
   "outputs": [],
   "source": [
    "import tensorflow as tf"
   ]
  },
  {
   "cell_type": "code",
   "execution_count": 6,
   "metadata": {},
   "outputs": [],
   "source": [
    "from tensorflow.keras.preprocessing.sequence import TimeseriesGenerator\n",
    "from tensorflow.keras.models import Sequential\n",
    "from tensorflow.keras.layers import Dense\n",
    "from tensorflow.keras.layers import LSTM"
   ]
  },
  {
   "cell_type": "markdown",
   "metadata": {},
   "source": [
    "Instantiating the Scaler and Scaling the Data"
   ]
  },
  {
   "cell_type": "code",
   "execution_count": 7,
   "metadata": {},
   "outputs": [],
   "source": [
    "scaler = MinMaxScaler()"
   ]
  },
  {
   "cell_type": "code",
   "execution_count": 13,
   "metadata": {},
   "outputs": [],
   "source": [
    "train_lstm = train_data.values.reshape(-1, 1)\n",
    "test_lstm = test_data.values.reshape(-1, 1)"
   ]
  },
  {
   "cell_type": "code",
   "execution_count": null,
   "metadata": {},
   "outputs": [],
   "source": [
    "x_train, x_test, y_train, y_test"
   ]
  },
  {
   "cell_type": "code",
   "execution_count": 14,
   "metadata": {},
   "outputs": [],
   "source": [
    "scaler.fit(train_lstm)\n",
    "scaled_train = scaler.transform(train_lstm)\n",
    "scaled_test = scaler.transform(test_lstm)"
   ]
  },
  {
   "cell_type": "markdown",
   "metadata": {},
   "source": [
    "Instantiating the LSTM Model"
   ]
  },
  {
   "cell_type": "code",
   "execution_count": 17,
   "metadata": {},
   "outputs": [
    {
     "name": "stdout",
     "output_type": "stream",
     "text": [
      "Model: \"sequential_1\"\n",
      "_________________________________________________________________\n",
      "Layer (type)                 Output Shape              Param #   \n",
      "=================================================================\n",
      "unified_lstm (UnifiedLSTM)   (None, 200)               161600    \n",
      "_________________________________________________________________\n",
      "dense (Dense)                (None, 1)                 201       \n",
      "=================================================================\n",
      "Total params: 161,801\n",
      "Trainable params: 161,801\n",
      "Non-trainable params: 0\n",
      "_________________________________________________________________\n"
     ]
    }
   ],
   "source": [
    "lstm_model = Sequential()\n",
    "lstm_model.add(LSTM(200, activation='relu', input_shape=(n_input, n_features)))\n",
    "lstm_model.add(Dense(num_pred, activation='linear'))\n",
    "lstm_model.compile(optimizer='adam', loss='mse')\n",
    "\n",
    "lstm_model.summary()"
   ]
  },
  {
   "cell_type": "code",
   "execution_count": 20,
   "metadata": {},
   "outputs": [],
   "source": [
    "n_input = 12\n",
    "n_features = 1\n",
    "num_pred = 1\n",
    "generator = TimeseriesGenerator(scaled_train, \n",
    "                                train_lstm, \n",
    "                                length=n_input, batch_size=1)"
   ]
  },
  {
   "cell_type": "markdown",
   "metadata": {},
   "source": [
    "Verifying Scaled/Train Data"
   ]
  },
  {
   "cell_type": "code",
   "execution_count": 23,
   "metadata": {},
   "outputs": [
    {
     "data": {
      "text/plain": [
       "array([[[0.70990447],\n",
       "        [0.69632981],\n",
       "        [0.68979387],\n",
       "        [0.68376068],\n",
       "        [0.69029663],\n",
       "        [0.69733534],\n",
       "        [0.70889894],\n",
       "        [0.72649573],\n",
       "        [0.7456008 ],\n",
       "        [0.77626948],\n",
       "        [0.80442433],\n",
       "        [0.83257919]]])"
      ]
     },
     "execution_count": 23,
     "metadata": {},
     "output_type": "execute_result"
    }
   ],
   "source": [
    "batch_0 = generator[0]\n",
    "x, y = batch_0\n",
    "x"
   ]
  },
  {
   "cell_type": "code",
   "execution_count": 24,
   "metadata": {},
   "outputs": [
    {
     "data": {
      "text/plain": [
       "array([[715.]])"
      ]
     },
     "execution_count": 24,
     "metadata": {},
     "output_type": "execute_result"
    }
   ],
   "source": [
    "y"
   ]
  },
  {
   "cell_type": "code",
   "execution_count": null,
   "metadata": {
    "scrolled": true
   },
   "outputs": [
    {
     "name": "stdout",
     "output_type": "stream",
     "text": [
      "Epoch 1/2\n",
      " 216364/2104280 [==>...........................] - ETA: 22:30:23 - loss: 14412.6503"
     ]
    }
   ],
   "source": [
    "lstm_model.fit_generator(generator, epochs=2, verbose=1)"
   ]
  },
  {
   "cell_type": "code",
   "execution_count": null,
   "metadata": {},
   "outputs": [],
   "source": [
    "lstm_predictions_scaled = list()\n",
    "\n",
    "batch = scaled_train_data[-n_input:]\n",
    "current_batch = batch.reshape((1, n_input, n_features))"
   ]
  },
  {
   "cell_type": "code",
   "execution_count": null,
   "metadata": {},
   "outputs": [],
   "source": [
    "for i in range(len(test_data)):\n",
    "    lstm_pred = lstm_model.predict(current_batch)[0]\n",
    "    lstm_predictions_scaled.append(lstm_pred)\n",
    "    current_batch = np.append(current_batch[:,1:,:],[[lstm_pred]], axis=1)"
   ]
  },
  {
   "cell_type": "code",
   "execution_count": null,
   "metadata": {},
   "outputs": [],
   "source": [
    "lstm_predictions_scaled"
   ]
  },
  {
   "cell_type": "code",
   "execution_count": null,
   "metadata": {},
   "outputs": [],
   "source": [
    "lstm_predictions = scaler.inverse_transform(lstm_predictions_scaled)\n",
    "lstm_predictions"
   ]
  },
  {
   "cell_type": "code",
   "execution_count": null,
   "metadata": {},
   "outputs": [],
   "source": [
    "test_data['LSTM_Predictions'] = lstm_predictions\n",
    "test_data"
   ]
  },
  {
   "cell_type": "code",
   "execution_count": null,
   "metadata": {},
   "outputs": [],
   "source": [
    "test_data.plot(figsize=(16,5), legend=True)\n",
    "test_data['LSTM_Predictions'].plot(legend=True)"
   ]
  },
  {
   "cell_type": "code",
   "execution_count": null,
   "metadata": {},
   "outputs": [],
   "source": [
    "lstm_rmse_error = rmse(test_data['Demand (MW)'],\n",
    "                      test_data['LSTM_Predictions'])\n",
    "lstm_mst_error = lstm_rmse_error**2\n",
    "mean_value = data['Demand (MW)'].mean()\n",
    "\n",
    "print(f'MSE Error: {lstm_mse_error}\\n\n",
    "RMSE Error:{lstm_rmse_error}\\\n",
    "nMean: {mean_value})"
   ]
  },
  {
   "cell_type": "code",
   "execution_count": 8,
   "metadata": {},
   "outputs": [],
   "source": [
    "def windowize_data(data, n_prev):\n",
    "    n_predictions = len(data) - n_prev\n",
    "    y = data[n_prev:]\n",
    "    # this might be too clever\n",
    "    indices = np.arange(n_prev) + np.arange(n_predictions)[:, None]\n",
    "    x = data[indices, None]\n",
    "    return x, y"
   ]
  },
  {
   "cell_type": "code",
   "execution_count": 9,
   "metadata": {},
   "outputs": [],
   "source": [
    "def split_and_windowize(data, n_prev, fraction_test=0.3):\n",
    "    n_predictions = len(data) - 2*n_prev\n",
    "    \n",
    "    n_test  = int(fraction_test * n_predictions)\n",
    "    n_train = n_predictions - n_test   \n",
    "    \n",
    "    x_train, y_train = windowize_data(data[:n_train], n_prev)\n",
    "    x_test, y_test = windowize_data(data[n_train:], n_prev)\n",
    "    return x_train, x_test, y_train, y_test"
   ]
  },
  {
   "cell_type": "code",
   "execution_count": 10,
   "metadata": {},
   "outputs": [],
   "source": [
    "n_prev = 50"
   ]
  },
  {
   "cell_type": "code",
   "execution_count": 12,
   "metadata": {},
   "outputs": [],
   "source": [
    "x_train, x_test, y_train, y_test = split_and_windowize(demand, n_prev=50)"
   ]
  },
  {
   "cell_type": "code",
   "execution_count": 17,
   "metadata": {},
   "outputs": [
    {
     "data": {
      "text/plain": [
       "((2209387, 50, 1), (946951, 50, 1), (2209387,), (946951,))"
      ]
     },
     "execution_count": 17,
     "metadata": {},
     "output_type": "execute_result"
    }
   ],
   "source": [
    "#x_train, x_test, y_train, y_test = split_and_windowize(sin_t_noisy, n_prev)\n",
    "x_train.shape, x_test.shape, y_train.shape, y_test.shape"
   ]
  },
  {
   "cell_type": "code",
   "execution_count": null,
   "metadata": {},
   "outputs": [],
   "source": [
    "model = keras.Sequential()\n",
    "model.add(keras.layers.SimpleRNN(32, input_shape=(n_prev, 1), return_sequences=True))\n",
    "model.add(keras.layers.SimpleRNN(32, return_sequences=False))\n",
    "model.add(keras.layers.Dense(1, activation='linear'))\n",
    "model.compile(optimizer='rmsprop',\n",
    "              loss='mse')"
   ]
  },
  {
   "cell_type": "code",
   "execution_count": null,
   "metadata": {},
   "outputs": [],
   "source": [
    "model.summary()"
   ]
  },
  {
   "cell_type": "code",
   "execution_count": null,
   "metadata": {},
   "outputs": [],
   "source": [
    "model.fit(x_train, y_train, batch_size=32, epochs=2)"
   ]
  },
  {
   "cell_type": "code",
   "execution_count": null,
   "metadata": {},
   "outputs": [],
   "source": [
    "y_pred = model.predict(x_test)"
   ]
  }
 ],
 "metadata": {
  "kernelspec": {
   "display_name": "Python 3",
   "language": "python",
   "name": "python3"
  },
  "language_info": {
   "codemirror_mode": {
    "name": "ipython",
    "version": 3
   },
   "file_extension": ".py",
   "mimetype": "text/x-python",
   "name": "python",
   "nbconvert_exporter": "python",
   "pygments_lexer": "ipython3",
   "version": "3.5.2"
  }
 },
 "nbformat": 4,
 "nbformat_minor": 4
}
